{
 "cells": [
  {
   "cell_type": "markdown",
   "metadata": {},
   "source": [
    "# Get sequences\n",
    "of the species that are in the numt dataset"
   ]
  },
  {
   "cell_type": "code",
   "execution_count": 3,
   "metadata": {},
   "outputs": [],
   "source": [
    "import os \n",
    "import pandas as pd \n",
    "import numpy as np\n",
    "from bold import boldAPI"
   ]
  },
  {
   "cell_type": "code",
   "execution_count": 8,
   "metadata": {},
   "outputs": [],
   "source": [
    "\n",
    "\n",
    "dna_data_path = os.path.join('data', 'dna_sequences.csv')\n",
    "if not os.path.exists(dna_data_path):\n",
    "    dna_df = pd.read_csv(dna_data_path)\n",
    "    unique_species = dna_df['Species'].unique()\n",
    "    vfunc = np.vectorize(boldAPI.get_sequences)\n",
    "    results = pd.concat(vfunc(unique_species))\n",
    "else: \n",
    "    results = pd.read_csv(dna_data_path)\n",
    "\n",
    "results = results[results['Sequence'].str.contains('N') == False] # if there is an N its an error\n",
    "results['Sequence'] = results['Sequence'].apply(lambda x: x.replace('-', '')) # we dont care about the - its an alignment artifact and we can just remove them\n",
    "results = results.drop_duplicates(subset='Sequence') # there are a lot of duplicate sequences just drop all but the first\n",
    "\n",
    "results.to_csv(dna_data_path, index=False)\n",
    "\n"
   ]
  },
  {
   "cell_type": "code",
   "execution_count": 31,
   "metadata": {},
   "outputs": [
    {
     "name": "stdout",
     "output_type": "stream",
     "text": [
      "['Acropora millepora\\n', 'Apis mellifera']\n"
     ]
    }
   ],
   "source": [
    "with open(os.path.join('bold', 'bold_queries', 'species_names.txt')) as f: lines = f.readlines()\n",
    "print(lines)"
   ]
  },
  {
   "cell_type": "code",
   "execution_count": 21,
   "metadata": {},
   "outputs": [
    {
     "name": "stdout",
     "output_type": "stream",
     "text": [
      "Australia\n"
     ]
    }
   ],
   "source": [
    "import requests\n",
    "process_id = 'GBFSE25693-24'\n",
    "url = f'https://www.boldsystems.org/index.php/API_Public/specimen?ids={process_id}'\n",
    "\n",
    "\n",
    "response = requests.get(url)\n",
    "\n",
    "country_string = '</country'\n",
    "filtered_list = [item for item in response.text.split('>')[1:] if country_string in item]\n",
    "print(filtered_list[0].replace(country_string, ''))"
   ]
  },
  {
   "cell_type": "code",
   "execution_count": 28,
   "metadata": {},
   "outputs": [
    {
     "name": "stdout",
     "output_type": "stream",
     "text": [
      "Acropora millepora\n"
     ]
    },
    {
     "ename": "IndexError",
     "evalue": "list index out of range",
     "output_type": "error",
     "traceback": [
      "\u001b[1;31m---------------------------------------------------------------------------\u001b[0m",
      "\u001b[1;31mIndexError\u001b[0m                                Traceback (most recent call last)",
      "Cell \u001b[1;32mIn[28], line 5\u001b[0m\n\u001b[0;32m      2\u001b[0m \u001b[38;5;28;01mimport\u001b[39;00m \u001b[38;5;21;01mimportlib\u001b[39;00m\n\u001b[0;32m      3\u001b[0m importlib\u001b[38;5;241m.\u001b[39mreload(boldAPI)\n\u001b[1;32m----> 5\u001b[0m \u001b[43mboldAPI\u001b[49m\u001b[38;5;241;43m.\u001b[39;49m\u001b[43mget_sequences\u001b[49m\u001b[43m(\u001b[49m\u001b[38;5;124;43m'\u001b[39;49m\u001b[38;5;124;43mAcropora millepora\u001b[39;49m\u001b[38;5;124;43m'\u001b[39;49m\u001b[43m)\u001b[49m\n",
      "File \u001b[1;32mc:\\Users\\jcnic\\OneDrive\\Documents\\college\\courses\\Fall-2024\\ICS-661\\BOLD_spatial_proximity_clustering\\bold\\boldAPI.py:15\u001b[0m, in \u001b[0;36mget_sequences\u001b[1;34m(species)\u001b[0m\n\u001b[0;32m     13\u001b[0m species \u001b[38;5;241m=\u001b[39m dataSplit[\u001b[38;5;241m1\u001b[39m]\n\u001b[0;32m     14\u001b[0m ID \u001b[38;5;241m=\u001b[39m dataSplit[\u001b[38;5;241m0\u001b[39m]\n\u001b[1;32m---> 15\u001b[0m country \u001b[38;5;241m=\u001b[39m \u001b[43mget_country\u001b[49m\u001b[43m(\u001b[49m\u001b[43mID\u001b[49m\u001b[43m)\u001b[49m\n\u001b[0;32m     16\u001b[0m \u001b[38;5;66;03m# marker = dataSplit[2] # sometimes after the marker there is no | to solit on so in that case the markjer will have the sequence appended to it\u001b[39;00m\n\u001b[0;32m     17\u001b[0m sequenceRaw \u001b[38;5;241m=\u001b[39m dataSplit[\u001b[38;5;241m-\u001b[39m\u001b[38;5;241m1\u001b[39m] \u001b[38;5;66;03m# some times the marker is missing so best to just take the last thing\u001b[39;00m\n",
      "File \u001b[1;32mc:\\Users\\jcnic\\OneDrive\\Documents\\college\\courses\\Fall-2024\\ICS-661\\BOLD_spatial_proximity_clustering\\bold\\boldAPI.py:31\u001b[0m, in \u001b[0;36mget_country\u001b[1;34m(process_id)\u001b[0m\n\u001b[0;32m     29\u001b[0m country_string \u001b[38;5;241m=\u001b[39m \u001b[38;5;124m'\u001b[39m\u001b[38;5;124m</country\u001b[39m\u001b[38;5;124m'\u001b[39m\n\u001b[0;32m     30\u001b[0m filtered_list \u001b[38;5;241m=\u001b[39m [item \u001b[38;5;28;01mfor\u001b[39;00m item \u001b[38;5;129;01min\u001b[39;00m response\u001b[38;5;241m.\u001b[39mtext\u001b[38;5;241m.\u001b[39msplit(\u001b[38;5;124m'\u001b[39m\u001b[38;5;124m>\u001b[39m\u001b[38;5;124m'\u001b[39m)[\u001b[38;5;241m1\u001b[39m:] \u001b[38;5;28;01mif\u001b[39;00m country_string \u001b[38;5;129;01min\u001b[39;00m item] \u001b[38;5;66;03m# [1:] because the first is always xml header\u001b[39;00m\n\u001b[1;32m---> 31\u001b[0m country \u001b[38;5;241m=\u001b[39m \u001b[43mfiltered_list\u001b[49m\u001b[43m[\u001b[49m\u001b[38;5;241;43m0\u001b[39;49m\u001b[43m]\u001b[49m\u001b[38;5;241m.\u001b[39mreplace(country_string, \u001b[38;5;124m'\u001b[39m\u001b[38;5;124m'\u001b[39m)\n\u001b[0;32m     32\u001b[0m \u001b[38;5;28;01mif\u001b[39;00m country \u001b[38;5;241m==\u001b[39m \u001b[38;5;124m'\u001b[39m\u001b[38;5;124m'\u001b[39m: country \u001b[38;5;241m=\u001b[39m \u001b[38;5;124m'\u001b[39m\u001b[38;5;124mUnknown\u001b[39m\u001b[38;5;124m'\u001b[39m\n\u001b[0;32m     33\u001b[0m \u001b[38;5;28;01mreturn\u001b[39;00m(country)\n",
      "\u001b[1;31mIndexError\u001b[0m: list index out of range"
     ]
    }
   ],
   "source": [
    "from bold import boldAPI\n",
    "import importlib\n",
    "importlib.reload(boldAPI)\n",
    "\n",
    "boldAPI.get_sequences('Acropora millepora')"
   ]
  },
  {
   "cell_type": "code",
   "execution_count": null,
   "metadata": {},
   "outputs": [],
   "source": []
  },
  {
   "cell_type": "code",
   "execution_count": 10,
   "metadata": {},
   "outputs": [
    {
     "data": {
      "text/html": [
       "<div>\n",
       "<style scoped>\n",
       "    .dataframe tbody tr th:only-of-type {\n",
       "        vertical-align: middle;\n",
       "    }\n",
       "\n",
       "    .dataframe tbody tr th {\n",
       "        vertical-align: top;\n",
       "    }\n",
       "\n",
       "    .dataframe thead th {\n",
       "        text-align: right;\n",
       "    }\n",
       "</style>\n",
       "<table border=\"1\" class=\"dataframe\">\n",
       "  <thead>\n",
       "    <tr style=\"text-align: right;\">\n",
       "      <th></th>\n",
       "      <th>Species</th>\n",
       "      <th>BOLDProcessId</th>\n",
       "      <th>Sequence</th>\n",
       "    </tr>\n",
       "  </thead>\n",
       "  <tbody>\n",
       "    <tr>\n",
       "      <th>0</th>\n",
       "      <td>Abscondita terminalis</td>\n",
       "      <td>GBCL39854-19</td>\n",
       "      <td>CTTAATAAATGACTTTTTTCAACAAATCATAAAGACATTGGAACTT...</td>\n",
       "    </tr>\n",
       "    <tr>\n",
       "      <th>1</th>\n",
       "      <td>Abscondita terminalis</td>\n",
       "      <td>SPMIS002-22</td>\n",
       "      <td>AACTTTATATTTTATCTTCGGAATCTGAGCAGGAATATTAGGAACC...</td>\n",
       "    </tr>\n",
       "    <tr>\n",
       "      <th>2</th>\n",
       "      <td>Actias luna luna</td>\n",
       "      <td>GBGLS176-19</td>\n",
       "      <td>TTTTGATTTTTTGGGCATCCAGAAGTTTATATTTTAATTTTACCAG...</td>\n",
       "    </tr>\n",
       "    <tr>\n",
       "      <th>3</th>\n",
       "      <td>Actias luna</td>\n",
       "      <td>LGSM242-04</td>\n",
       "      <td>AACTTTATATTTTATTTTTGGAATTTGAGCAGGAATAGTAGGAACT...</td>\n",
       "    </tr>\n",
       "    <tr>\n",
       "      <th>4</th>\n",
       "      <td>Actias luna</td>\n",
       "      <td>LGSMC795-05</td>\n",
       "      <td>AACTTTATATTTTATTTTTGGAATTTGAGCAGGAATAGTAGGAACT...</td>\n",
       "    </tr>\n",
       "    <tr>\n",
       "      <th>...</th>\n",
       "      <td>...</td>\n",
       "      <td>...</td>\n",
       "      <td>...</td>\n",
       "    </tr>\n",
       "    <tr>\n",
       "      <th>41944</th>\n",
       "      <td>Zootermopsis nevadensis</td>\n",
       "      <td>GBMTG5022-16</td>\n",
       "      <td>ATGTTAATATTTTTTTATTTTTCTACCTTTTTTCTTTGTGGTTTGT...</td>\n",
       "    </tr>\n",
       "    <tr>\n",
       "      <th>41945</th>\n",
       "      <td>Zootermopsis nevadensis</td>\n",
       "      <td>GBMTG5022-16</td>\n",
       "      <td>ATGAATAAACCCATACGAAAAAACCACCCACTAATCAAAATTATAA...</td>\n",
       "    </tr>\n",
       "    <tr>\n",
       "      <th>41946</th>\n",
       "      <td>Zootermopsis nevadensis</td>\n",
       "      <td>GBMH10124-19</td>\n",
       "      <td>GAACAGAACTTGGACAACCAGGATCCTAATTGGAGACGACCAAATT...</td>\n",
       "    </tr>\n",
       "    <tr>\n",
       "      <th>41947</th>\n",
       "      <td>Zootermopsis nevadensis nuttingi</td>\n",
       "      <td>GBMH9919-19</td>\n",
       "      <td>GAACAGAACTTGGACAACCAGGATCCTAATTGGAGACGACCAAATT...</td>\n",
       "    </tr>\n",
       "    <tr>\n",
       "      <th>41948</th>\n",
       "      <td>Zootermopsis nevadensis</td>\n",
       "      <td>SPMIS419-22</td>\n",
       "      <td>AACATTATACTTCATCTTCGGGGCATGATCCGGAATATTAGGAACA...</td>\n",
       "    </tr>\n",
       "  </tbody>\n",
       "</table>\n",
       "<p>40565 rows × 3 columns</p>\n",
       "</div>"
      ],
      "text/plain": [
       "                                Species BOLDProcessId  \\\n",
       "0                 Abscondita terminalis  GBCL39854-19   \n",
       "1                 Abscondita terminalis   SPMIS002-22   \n",
       "2                      Actias luna luna   GBGLS176-19   \n",
       "3                           Actias luna    LGSM242-04   \n",
       "4                           Actias luna   LGSMC795-05   \n",
       "...                                 ...           ...   \n",
       "41944           Zootermopsis nevadensis  GBMTG5022-16   \n",
       "41945           Zootermopsis nevadensis  GBMTG5022-16   \n",
       "41946           Zootermopsis nevadensis  GBMH10124-19   \n",
       "41947  Zootermopsis nevadensis nuttingi   GBMH9919-19   \n",
       "41948           Zootermopsis nevadensis   SPMIS419-22   \n",
       "\n",
       "                                                Sequence  \n",
       "0      CTTAATAAATGACTTTTTTCAACAAATCATAAAGACATTGGAACTT...  \n",
       "1      AACTTTATATTTTATCTTCGGAATCTGAGCAGGAATATTAGGAACC...  \n",
       "2      TTTTGATTTTTTGGGCATCCAGAAGTTTATATTTTAATTTTACCAG...  \n",
       "3      AACTTTATATTTTATTTTTGGAATTTGAGCAGGAATAGTAGGAACT...  \n",
       "4      AACTTTATATTTTATTTTTGGAATTTGAGCAGGAATAGTAGGAACT...  \n",
       "...                                                  ...  \n",
       "41944  ATGTTAATATTTTTTTATTTTTCTACCTTTTTTCTTTGTGGTTTGT...  \n",
       "41945  ATGAATAAACCCATACGAAAAAACCACCCACTAATCAAAATTATAA...  \n",
       "41946  GAACAGAACTTGGACAACCAGGATCCTAATTGGAGACGACCAAATT...  \n",
       "41947  GAACAGAACTTGGACAACCAGGATCCTAATTGGAGACGACCAAATT...  \n",
       "41948  AACATTATACTTCATCTTCGGGGCATGATCCGGAATATTAGGAACA...  \n",
       "\n",
       "[40565 rows x 3 columns]"
      ]
     },
     "execution_count": 10,
     "metadata": {},
     "output_type": "execute_result"
    }
   ],
   "source": [
    "results"
   ]
  },
  {
   "cell_type": "markdown",
   "metadata": {},
   "source": [
    "# get amino acid sequences for the DNA seqs"
   ]
  },
  {
   "cell_type": "code",
   "execution_count": 4,
   "metadata": {},
   "outputs": [],
   "source": [
    "import os\n",
    "import pandas as pd\n",
    "from plmcluster import proteinextraction\n",
    "# sequencePath = os.path.join('data', 'BOLD_sequences.csv')\n",
    "# if os.path.exists(sequencePath) and:\n",
    "#     results = pd.read_csv(sequencePath)"
   ]
  },
  {
   "cell_type": "code",
   "execution_count": 12,
   "metadata": {},
   "outputs": [
    {
     "name": "stderr",
     "output_type": "stream",
     "text": [
      "/home/jnicolow/.conda/envs/numt/lib/python3.11/site-packages/Bio/Seq.py:2334: BiopythonWarning: Partial codon, len(sequence) not a multiple of three. Explicitly trim the sequence or add trailing N before translation. This may become an error in future.\n",
      "  warnings.warn(\n"
     ]
    }
   ],
   "source": [
    "results.drop_duplicates(subset='Sequence', inplace=True) # there is a chance that after N and - being removed there are sequences that are duplicates now\n",
    "results['AminoAcidSeq'] = results['Sequence'].apply(proteinextraction.get_aminoacid_seq)\n",
    "results.to_csv(os.path.join('data', 'BOLD_seqs_with_protein.csv'), index=False)"
   ]
  }
 ],
 "metadata": {
  "kernelspec": {
   "display_name": "Python 3",
   "language": "python",
   "name": "python3"
  },
  "language_info": {
   "codemirror_mode": {
    "name": "ipython",
    "version": 3
   },
   "file_extension": ".py",
   "mimetype": "text/x-python",
   "name": "python",
   "nbconvert_exporter": "python",
   "pygments_lexer": "ipython3",
   "version": "3.11.5"
  }
 },
 "nbformat": 4,
 "nbformat_minor": 2
}
