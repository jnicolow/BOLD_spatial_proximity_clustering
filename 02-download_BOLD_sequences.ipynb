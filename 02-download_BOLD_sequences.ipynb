{
 "cells": [
  {
   "cell_type": "markdown",
   "metadata": {},
   "source": [
    "# Get sequences\n",
    "of the species that are in the numt dataset"
   ]
  },
  {
   "cell_type": "code",
   "execution_count": 3,
   "metadata": {},
   "outputs": [],
   "source": [
    "import os \n",
    "import pandas as pd \n",
    "import numpy as np\n",
    "from NUMTscan import boldAPI"
   ]
  },
  {
   "cell_type": "code",
   "execution_count": 8,
   "metadata": {},
   "outputs": [],
   "source": [
    "\n",
    "BOLD_DNA_DIR = os.path.join('data', 'BOLD_sequences.csv')\n",
    "if not os.path.exists(BOLD_DNA_DIR):\n",
    "    NUMTDF = pd.read_csv(os.path.join('data', 'NUMT_reliable_hits_with_protein_seq.csv'))\n",
    "    unique_species = NUMTDF['Species'].unique()\n",
    "    vfunc = np.vectorize(boldAPI.get_sequences)\n",
    "    results = pd.concat(vfunc(unique_species))\n",
    "else: \n",
    "    results = pd.read_csv(BOLD_DNA_DIR)\n",
    "\n",
    "results = results[results['Sequence'].str.contains('N') == False] # this is an error\n",
    "results['Sequence'] = results['Sequence'].apply(lambda x: x.replace('-', '')) # we dont care about the - its an alignment artifact and we can just remove them\n",
    "results = results.drop_duplicates(subset='Sequence') # there are a lot of duplicate sequences just drop all but the first\n",
    "\n",
    "results.to_csv(BOLD_DNA_DIR, index=False)\n",
    "\n"
   ]
  },
  {
   "cell_type": "code",
   "execution_count": 10,
   "metadata": {},
   "outputs": [
    {
     "data": {
      "text/html": [
       "<div>\n",
       "<style scoped>\n",
       "    .dataframe tbody tr th:only-of-type {\n",
       "        vertical-align: middle;\n",
       "    }\n",
       "\n",
       "    .dataframe tbody tr th {\n",
       "        vertical-align: top;\n",
       "    }\n",
       "\n",
       "    .dataframe thead th {\n",
       "        text-align: right;\n",
       "    }\n",
       "</style>\n",
       "<table border=\"1\" class=\"dataframe\">\n",
       "  <thead>\n",
       "    <tr style=\"text-align: right;\">\n",
       "      <th></th>\n",
       "      <th>Species</th>\n",
       "      <th>BOLDProcessId</th>\n",
       "      <th>Sequence</th>\n",
       "    </tr>\n",
       "  </thead>\n",
       "  <tbody>\n",
       "    <tr>\n",
       "      <th>0</th>\n",
       "      <td>Abscondita terminalis</td>\n",
       "      <td>GBCL39854-19</td>\n",
       "      <td>CTTAATAAATGACTTTTTTCAACAAATCATAAAGACATTGGAACTT...</td>\n",
       "    </tr>\n",
       "    <tr>\n",
       "      <th>1</th>\n",
       "      <td>Abscondita terminalis</td>\n",
       "      <td>SPMIS002-22</td>\n",
       "      <td>AACTTTATATTTTATCTTCGGAATCTGAGCAGGAATATTAGGAACC...</td>\n",
       "    </tr>\n",
       "    <tr>\n",
       "      <th>2</th>\n",
       "      <td>Actias luna luna</td>\n",
       "      <td>GBGLS176-19</td>\n",
       "      <td>TTTTGATTTTTTGGGCATCCAGAAGTTTATATTTTAATTTTACCAG...</td>\n",
       "    </tr>\n",
       "    <tr>\n",
       "      <th>3</th>\n",
       "      <td>Actias luna</td>\n",
       "      <td>LGSM242-04</td>\n",
       "      <td>AACTTTATATTTTATTTTTGGAATTTGAGCAGGAATAGTAGGAACT...</td>\n",
       "    </tr>\n",
       "    <tr>\n",
       "      <th>4</th>\n",
       "      <td>Actias luna</td>\n",
       "      <td>LGSMC795-05</td>\n",
       "      <td>AACTTTATATTTTATTTTTGGAATTTGAGCAGGAATAGTAGGAACT...</td>\n",
       "    </tr>\n",
       "    <tr>\n",
       "      <th>...</th>\n",
       "      <td>...</td>\n",
       "      <td>...</td>\n",
       "      <td>...</td>\n",
       "    </tr>\n",
       "    <tr>\n",
       "      <th>41944</th>\n",
       "      <td>Zootermopsis nevadensis</td>\n",
       "      <td>GBMTG5022-16</td>\n",
       "      <td>ATGTTAATATTTTTTTATTTTTCTACCTTTTTTCTTTGTGGTTTGT...</td>\n",
       "    </tr>\n",
       "    <tr>\n",
       "      <th>41945</th>\n",
       "      <td>Zootermopsis nevadensis</td>\n",
       "      <td>GBMTG5022-16</td>\n",
       "      <td>ATGAATAAACCCATACGAAAAAACCACCCACTAATCAAAATTATAA...</td>\n",
       "    </tr>\n",
       "    <tr>\n",
       "      <th>41946</th>\n",
       "      <td>Zootermopsis nevadensis</td>\n",
       "      <td>GBMH10124-19</td>\n",
       "      <td>GAACAGAACTTGGACAACCAGGATCCTAATTGGAGACGACCAAATT...</td>\n",
       "    </tr>\n",
       "    <tr>\n",
       "      <th>41947</th>\n",
       "      <td>Zootermopsis nevadensis nuttingi</td>\n",
       "      <td>GBMH9919-19</td>\n",
       "      <td>GAACAGAACTTGGACAACCAGGATCCTAATTGGAGACGACCAAATT...</td>\n",
       "    </tr>\n",
       "    <tr>\n",
       "      <th>41948</th>\n",
       "      <td>Zootermopsis nevadensis</td>\n",
       "      <td>SPMIS419-22</td>\n",
       "      <td>AACATTATACTTCATCTTCGGGGCATGATCCGGAATATTAGGAACA...</td>\n",
       "    </tr>\n",
       "  </tbody>\n",
       "</table>\n",
       "<p>40565 rows × 3 columns</p>\n",
       "</div>"
      ],
      "text/plain": [
       "                                Species BOLDProcessId  \\\n",
       "0                 Abscondita terminalis  GBCL39854-19   \n",
       "1                 Abscondita terminalis   SPMIS002-22   \n",
       "2                      Actias luna luna   GBGLS176-19   \n",
       "3                           Actias luna    LGSM242-04   \n",
       "4                           Actias luna   LGSMC795-05   \n",
       "...                                 ...           ...   \n",
       "41944           Zootermopsis nevadensis  GBMTG5022-16   \n",
       "41945           Zootermopsis nevadensis  GBMTG5022-16   \n",
       "41946           Zootermopsis nevadensis  GBMH10124-19   \n",
       "41947  Zootermopsis nevadensis nuttingi   GBMH9919-19   \n",
       "41948           Zootermopsis nevadensis   SPMIS419-22   \n",
       "\n",
       "                                                Sequence  \n",
       "0      CTTAATAAATGACTTTTTTCAACAAATCATAAAGACATTGGAACTT...  \n",
       "1      AACTTTATATTTTATCTTCGGAATCTGAGCAGGAATATTAGGAACC...  \n",
       "2      TTTTGATTTTTTGGGCATCCAGAAGTTTATATTTTAATTTTACCAG...  \n",
       "3      AACTTTATATTTTATTTTTGGAATTTGAGCAGGAATAGTAGGAACT...  \n",
       "4      AACTTTATATTTTATTTTTGGAATTTGAGCAGGAATAGTAGGAACT...  \n",
       "...                                                  ...  \n",
       "41944  ATGTTAATATTTTTTTATTTTTCTACCTTTTTTCTTTGTGGTTTGT...  \n",
       "41945  ATGAATAAACCCATACGAAAAAACCACCCACTAATCAAAATTATAA...  \n",
       "41946  GAACAGAACTTGGACAACCAGGATCCTAATTGGAGACGACCAAATT...  \n",
       "41947  GAACAGAACTTGGACAACCAGGATCCTAATTGGAGACGACCAAATT...  \n",
       "41948  AACATTATACTTCATCTTCGGGGCATGATCCGGAATATTAGGAACA...  \n",
       "\n",
       "[40565 rows x 3 columns]"
      ]
     },
     "execution_count": 10,
     "metadata": {},
     "output_type": "execute_result"
    }
   ],
   "source": [
    "results"
   ]
  },
  {
   "cell_type": "markdown",
   "metadata": {},
   "source": [
    "# get amino acid sequences for the DNA seqs"
   ]
  },
  {
   "cell_type": "code",
   "execution_count": 11,
   "metadata": {},
   "outputs": [],
   "source": [
    "import os\n",
    "import pandas as pd\n",
    "from NUMTscan import proteinextraction\n",
    "# sequencePath = os.path.join('data', 'BOLD_sequences.csv')\n",
    "# if os.path.exists(sequencePath) and:\n",
    "#     results = pd.read_csv(sequencePath)"
   ]
  },
  {
   "cell_type": "code",
   "execution_count": 12,
   "metadata": {},
   "outputs": [
    {
     "name": "stderr",
     "output_type": "stream",
     "text": [
      "/home/jnicolow/.conda/envs/numt/lib/python3.11/site-packages/Bio/Seq.py:2334: BiopythonWarning: Partial codon, len(sequence) not a multiple of three. Explicitly trim the sequence or add trailing N before translation. This may become an error in future.\n",
      "  warnings.warn(\n"
     ]
    }
   ],
   "source": [
    "results.drop_duplicates(subset='Sequence', inplace=True) # there is a chance that after N and - being removed there are sequences that are duplicates now\n",
    "results['AminoAcidSeq'] = results['Sequence'].apply(proteinextraction.get_aminoacid_seq)\n",
    "results.to_csv(os.path.join('data', 'BOLD_seqs_with_protein.csv'), index=False)"
   ]
  }
 ],
 "metadata": {
  "kernelspec": {
   "display_name": "Python 3",
   "language": "python",
   "name": "python3"
  },
  "language_info": {
   "codemirror_mode": {
    "name": "ipython",
    "version": 3
   },
   "file_extension": ".py",
   "mimetype": "text/x-python",
   "name": "python",
   "nbconvert_exporter": "python",
   "pygments_lexer": "ipython3",
   "version": "3.11.5"
  }
 },
 "nbformat": 4,
 "nbformat_minor": 2
}
